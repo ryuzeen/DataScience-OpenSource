{
  "cells": [
    {
      "cell_type": "markdown",
      "metadata": {
        "id": "X-1GXjOT_NB3"
      },
      "source": [
        "# Data Science (Simple Data Source)\n",
        "# By Ryuzeen (https://github.com/ryuzeen)\n"
      ]
    },
    {
      "cell_type": "code",
      "execution_count": 14,
      "metadata": {
        "id": "vtrtZw_B7FUp"
      },
      "outputs": [],
      "source": [
        "import pandas as pd\n",
        "from scipy import stats\n",
        "from statsmodels.stats.proportion import proportions_ztest\n",
        "from scipy.stats import f_oneway\n",
        "from scipy.stats import chi2_contingency\n",
        "import seaborn as sns\n",
        "import matplotlib.pyplot as plt\n",
        "from sklearn.linear_model import LinearRegression\n",
        "from sklearn.metrics import r2_score\n",
        "import statsmodels.api as sm"
      ]
    },
    {
      "cell_type": "code",
      "execution_count": 2,
      "metadata": {
        "colab": {
          "base_uri": "https://localhost:8080/"
        },
        "id": "BtjypApt7QDT",
        "outputId": "e8365057-3336-4811-df8c-d11458f8d246"
      },
      "outputs": [
        {
          "name": "stdout",
          "output_type": "stream",
          "text": [
            "Há diferença significativa nos preços dos carros entre Volkswagen e Renault (p < 0.05).\n",
            "Há diferença significativa nos preços dos carros entre Renault e Audi (p < 0.05).\n"
          ]
        }
      ],
      "source": [
        "# Carregar o dataframe\n",
        "df = pd.read_csv('CP3 Cars.csv')\n",
        "\n",
        "# 1. Filtrar carros da Volkswagen e Renault\n",
        "vw_renault = df[(df['manufacturer_name'] == 'Volkswagen') | (df['manufacturer_name'] == 'Renault')]\n",
        "\n",
        "# 2. Realizar teste t para comparar os preços dos carros Volkswagen e Renault\n",
        "vw_prices = vw_renault[vw_renault['manufacturer_name'] == 'Volkswagen']['price_usd']\n",
        "renault_prices = vw_renault[vw_renault['manufacturer_name'] == 'Renault']['price_usd']\n",
        "t_statistic, p_value = stats.ttest_ind(vw_prices, renault_prices)\n",
        "\n",
        "# 3. Interpretar os resultados\n",
        "alpha = 0.05\n",
        "if p_value < alpha:\n",
        "    print(\"Há diferença significativa nos preços dos carros entre Volkswagen e Renault (p < 0.05).\")\n",
        "else:\n",
        "    print(\"Não há diferença significativa nos preços dos carros entre Volkswagen e Renault (p >= 0.05).\")\n",
        "\n",
        "# 4. Teste t para comparar os preços dos carros Renault e Audi\n",
        "renault_audi = df[(df['manufacturer_name'] == 'Renault') | (df['manufacturer_name'] == 'Audi')]\n",
        "renault_prices = renault_audi[renault_audi['manufacturer_name'] == 'Renault']['price_usd']\n",
        "audi_prices = renault_audi[renault_audi['manufacturer_name'] == 'Audi']['price_usd']\n",
        "t_statistic, p_value = stats.ttest_ind(renault_prices, audi_prices)\n",
        "\n",
        "# Interpretar os resultados\n",
        "if p_value < alpha:\n",
        "    print(\"Há diferença significativa nos preços dos carros entre Renault e Audi (p < 0.05).\")\n",
        "else:\n",
        "    print(\"Não há diferença significativa nos preços dos carros entre Renault e Audi (p >= 0.05).\")\n",
        "\n",
        "# Há diferença significativa nos preços dos carros entre Volkswagen e Renault (p < 0.05).\n",
        "# Há diferença significativa nos preços dos carros entre Renault e Audi (p < 0.05)."
      ]
    },
    {
      "cell_type": "code",
      "execution_count": 3,
      "metadata": {
        "colab": {
          "base_uri": "https://localhost:8080/"
        },
        "id": "qk6KIhF57bVM",
        "outputId": "d9a5100d-2f67-42d4-8617-6fd52fb11c25"
      },
      "outputs": [
        {
          "name": "stdout",
          "output_type": "stream",
          "text": [
            "Não há diferença significativa nos preços dos carros entre BMW e Toyota (p >= 0.05).\n",
            "Não há diferença significativa nos preços dos carros entre BMW e Mercedes-Benz (p >= 0.05).\n"
          ]
        }
      ],
      "source": [
        "# Carregar o dataframe\n",
        "df = pd.read_csv('CP3 Cars.csv')\n",
        "\n",
        "# Filtrar carros da BMW e Toyota\n",
        "bmw_toyota = df[(df['manufacturer_name'] == 'BMW') | (df['manufacturer_name'] == 'Toyota')]\n",
        "\n",
        "# Realizar teste t para comparar os preços dos carros BMW e Toyota\n",
        "bmw_prices = bmw_toyota[bmw_toyota['manufacturer_name'] == 'BMW']['price_usd']\n",
        "toyota_prices = bmw_toyota[bmw_toyota['manufacturer_name'] == 'Toyota']['price_usd']\n",
        "t_statistic, p_value = stats.ttest_ind(bmw_prices, toyota_prices)\n",
        "\n",
        "# Interpretar os resultados\n",
        "alpha = 0.05\n",
        "if p_value < alpha:\n",
        "    print(\"Há diferença significativa nos preços dos carros entre BMW e Toyota (p < 0.05).\")\n",
        "else:\n",
        "    print(\"Não há diferença significativa nos preços dos carros entre BMW e Toyota (p >= 0.05).\")\n",
        "\n",
        "# Teste t para comparar os preços dos carros BMW e Mercedes-Benz\n",
        "bmw_mercedes = df[(df['manufacturer_name'] == 'BMW') | (df['manufacturer_name'] == 'Mercedes-Benz')]\n",
        "bmw_prices = bmw_mercedes[bmw_mercedes['manufacturer_name'] == 'BMW']['price_usd']\n",
        "mercedes_prices = bmw_mercedes[bmw_mercedes['manufacturer_name'] == 'Mercedes-Benz']['price_usd']\n",
        "t_statistic, p_value = stats.ttest_ind(bmw_prices, mercedes_prices)\n",
        "\n",
        "# Interpretar os resultados\n",
        "if p_value < alpha:\n",
        "    print(\"Há diferença significativa nos preços dos carros entre BMW e Mercedes-Benz (p < 0.05).\")\n",
        "else:\n",
        "    print(\"Não há diferença significativa nos preços dos carros entre BMW e Mercedes-Benz (p >= 0.05).\")\n",
        "\n",
        "    # Não há diferença significativa nos preços dos carros entre BMW e Toyota (p >= 0.05).\n",
        "    # Não há diferença significativa nos preços dos carros entre BMW e Mercedes-Benz (p >= 0.05)."
      ]
    },
    {
      "cell_type": "code",
      "execution_count": 4,
      "metadata": {
        "colab": {
          "base_uri": "https://localhost:8080/"
        },
        "id": "ULg38Acz7pr4",
        "outputId": "50c911ad-70aa-472b-eeaa-afdc69340aa4"
      },
      "outputs": [
        {
          "name": "stdout",
          "output_type": "stream",
          "text": [
            "Há diferença significativa nos preços dos carros de acordo com a transmissão (p < 0.05).\n",
            "Há diferença significativa na quilometragem dos carros de acordo com a transmissão (p < 0.05).\n"
          ]
        }
      ],
      "source": [
        "# Carregar o dataframe\n",
        "df = pd.read_csv('CP3 Cars.csv')\n",
        "\n",
        "# Filtrar carros com transmissão automática e mecânica\n",
        "automatic_cars = df[df['transmission'] == 'automatic']\n",
        "mechanical_cars = df[df['transmission'] == 'mechanical']\n",
        "\n",
        "# Realizar teste t para comparar os preços dos carros com transmissão automática e mecânica\n",
        "t_statistic_price, p_value_price = stats.ttest_ind(automatic_cars['price_usd'], mechanical_cars['price_usd'])\n",
        "\n",
        "# Interpretar os resultados para os preços\n",
        "alpha = 0.05\n",
        "if p_value_price < alpha:\n",
        "    print(\"Há diferença significativa nos preços dos carros de acordo com a transmissão (p < 0.05).\")\n",
        "else:\n",
        "    print(\"Não há diferença significativa nos preços dos carros de acordo com a transmissão (p >= 0.05).\")\n",
        "\n",
        "# Realizar teste t para comparar o valor do hodômetro dos carros com transmissão automática e mecânica\n",
        "t_statistic_odometer, p_value_odometer = stats.ttest_ind(automatic_cars['odometer_value'], mechanical_cars['odometer_value'])\n",
        "\n",
        "# Interpretar os resultados para a quilometragem\n",
        "if p_value_odometer < alpha:\n",
        "    print(\"Há diferença significativa na quilometragem dos carros de acordo com a transmissão (p < 0.05).\")\n",
        "else:\n",
        "    print(\"Não há diferença significativa na quilometragem dos carros de acordo com a transmissão (p >= 0.05).\")\n",
        "\n",
        "    # Há diferença significativa nos preços dos carros de acordo com a transmissão (p < 0.05).\n",
        "    # Há diferença significativa na quilometragem dos carros de acordo com a transmissão (p < 0.05)."
      ]
    },
    {
      "cell_type": "code",
      "execution_count": 5,
      "metadata": {
        "colab": {
          "base_uri": "https://localhost:8080/"
        },
        "id": "oFjH46687x0k",
        "outputId": "7cfc43fe-0aca-4c94-8fc2-b212313fa4d1"
      },
      "outputs": [
        {
          "name": "stdout",
          "output_type": "stream",
          "text": [
            "Há diferença significativa nos preços dos carros com diferentes tipos de motor (p < 0.05).\n"
          ]
        }
      ],
      "source": [
        "# Carregar o dataframe\n",
        "df = pd.read_csv('CP3 Cars.csv')\n",
        "\n",
        "# Realizar o teste ANOVA para comparar os preços dos carros com diferentes tipos de motor\n",
        "anova_results = f_oneway(\n",
        "    df[df['engine_type'] == 'diesel']['price_usd'],\n",
        "    df[df['engine_type'] == 'gasoline']['price_usd'],\n",
        "    df[df['engine_type'] == 'electric']['price_usd']\n",
        ")\n",
        "\n",
        "# Interpretar os resultados\n",
        "alpha = 0.05\n",
        "if anova_results.pvalue < alpha:\n",
        "    print(\"Há diferença significativa nos preços dos carros com diferentes tipos de motor (p < 0.05).\")\n",
        "else:\n",
        "    print(\"Não há diferença significativa nos preços dos carros com diferentes tipos de motor (p >= 0.05).\")\n",
        "\n",
        "    # Há diferença significativa nos preços dos carros com diferentes tipos de motor (p < 0.05)."
      ]
    },
    {
      "cell_type": "code",
      "execution_count": 6,
      "metadata": {
        "colab": {
          "base_uri": "https://localhost:8080/"
        },
        "id": "0JH_pKUE78V-",
        "outputId": "1ecb5866-5ae7-4149-ea4b-88b53ae6d2cb"
      },
      "outputs": [
        {
          "name": "stdout",
          "output_type": "stream",
          "text": [
            "A proporção de carros fabricados em 2000 é significativamente diferente de 5%.\n",
            "A proporção de carros fabricados em 2001 não é significativamente diferente de 5%.\n"
          ]
        }
      ],
      "source": [
        "# Carregar o dataframe\n",
        "df = pd.read_csv('CP3 Cars.csv')\n",
        "\n",
        "# Contar o número total de observações\n",
        "total_obs = len(df)\n",
        "\n",
        "# Contar o número de carros fabricados em 2000 e 2001\n",
        "num_cars_2000 = len(df[df['year_produced'] == 2000])\n",
        "num_cars_2001 = len(df[df['year_produced'] == 2001])\n",
        "\n",
        "# Teste de proporção para carros fabricados em 2000\n",
        "z_stat_2000, p_value_2000 = proportions_ztest(count=num_cars_2000, nobs=total_obs, value=0.05)\n",
        "\n",
        "# Teste de proporção para carros fabricados em 2001\n",
        "z_stat_2001, p_value_2001 = proportions_ztest(count=num_cars_2001, nobs=total_obs, value=0.05)\n",
        "\n",
        "# Interpretar os resultados\n",
        "alpha = 0.05\n",
        "if p_value_2000 < alpha:\n",
        "    print(\"A proporção de carros fabricados em 2000 é significativamente diferente de 5%.\")\n",
        "else:\n",
        "    print(\"A proporção de carros fabricados em 2000 não é significativamente diferente de 5%.\")\n",
        "\n",
        "if p_value_2001 < alpha:\n",
        "    print(\"A proporção de carros fabricados em 2001 é significativamente diferente de 5%.\")\n",
        "else:\n",
        "    print(\"A proporção de carros fabricados em 2001 não é significativamente diferente de 5%.\")\n",
        "\n",
        "    # A proporção de carros fabricados em 2000 é significativamente diferente de 5%\n",
        "    # A proporção de carros fabricados em 2001 não é significativamente diferente de 5%."
      ]
    },
    {
      "cell_type": "code",
      "execution_count": 7,
      "metadata": {
        "colab": {
          "base_uri": "https://localhost:8080/"
        },
        "id": "mLS7p8tr8Fuu",
        "outputId": "5b15d0ae-3040-45e2-aab3-43636d3c132d"
      },
      "outputs": [
        {
          "name": "stdout",
          "output_type": "stream",
          "text": [
            "O preço médio dos carros da Volkswagen é significativamente menor do que US$10.000,00 (p < 0.05).\n"
          ]
        }
      ],
      "source": [
        "# Carregar o dataframe\n",
        "df = pd.read_csv('CP3 Cars.csv')\n",
        "\n",
        "# Filtrar carros da Volkswagen\n",
        "vw_cars = df[df['manufacturer_name'] == 'Volkswagen']\n",
        "\n",
        "# Realizar teste t unicaudal para comparar o preço médio dos carros da Volkswagen com US$10.000,00\n",
        "t_statistic, p_value = stats.ttest_1samp(vw_cars['price_usd'], 10000, alternative='less')\n",
        "\n",
        "# Interpretar os resultados\n",
        "alpha = 0.05\n",
        "if p_value < alpha:\n",
        "    print(\"O preço médio dos carros da Volkswagen é significativamente menor do que US$10.000,00 (p < 0.05).\")\n",
        "else:\n",
        "    print(\"O preço médio dos carros da Volkswagen não é significativamente menor do que US$10.000,00 (p >= 0.05).\")\n",
        "\n",
        "    # O preço médio dos carros da Volkswagen é significativamente menor do que US$10.000,00 (p < 0.05)."
      ]
    },
    {
      "cell_type": "code",
      "execution_count": 8,
      "metadata": {
        "colab": {
          "base_uri": "https://localhost:8080/"
        },
        "id": "5MPBgFNK8MQo",
        "outputId": "084529c5-5857-421c-a713-5a53d6feae31"
      },
      "outputs": [
        {
          "name": "stdout",
          "output_type": "stream",
          "text": [
            "Há dependência entre as variáveis 'transmission' e 'engine_type' (p < 0.05).\n"
          ]
        }
      ],
      "source": [
        "# Carregar o dataframe\n",
        "df = pd.read_csv('CP3 Cars.csv')\n",
        "\n",
        "# Criar uma tabela de contingência entre as variáveis transmission e engine_type\n",
        "contingency_table = pd.crosstab(df['transmission'], df['engine_type'])\n",
        "\n",
        "# Realizar o teste qui-quadrado de independência\n",
        "chi2, p_value, _, _ = chi2_contingency(contingency_table)\n",
        "\n",
        "# Interpretar os resultados\n",
        "alpha = 0.05\n",
        "if p_value < alpha:\n",
        "    print(\"Há dependência entre as variáveis 'transmission' e 'engine_type' (p < 0.05).\")\n",
        "else:\n",
        "    print(\"Não há dependência entre as variáveis 'transmission' e 'engine_type' (p >= 0.05).\")\n",
        "\n",
        "    # Há dependência entre as variáveis 'transmission' e 'engine_type' (p < 0.05)."
      ]
    },
    {
      "cell_type": "code",
      "execution_count": 10,
      "metadata": {
        "colab": {
          "base_uri": "https://localhost:8080/",
          "height": 848
        },
        "id": "mdAJiVik8Wwl",
        "outputId": "183b7b25-3b6d-4f99-d88e-e802ad7723f4"
      },
      "outputs": [
        {
          "data": {
            "image/png": "[encoded data removed]",
            "text/plain": [
              "<Figure size 1000x800 with 2 Axes>"
            ]
          },
          "metadata": {},
          "output_type": "display_data"
        },
        {
          "name": "stdout",
          "output_type": "stream",
          "text": [
            "Maior correlação: 0.6981155644552897\n",
            "Menor correlação: -0.4212043194128441\n"
          ]
        }
      ],
      "source": [
        "df = pd.read_csv('CP3 Cars.csv')\n",
        "\n",
        "# Selecionar as variáveis de interesse\n",
        "selected_vars = ['odometer_value', 'engine_capacity', 'price_usd', 'number_of_photos', 'up_counter', 'duration_listed']\n",
        "selected_df = df[selected_vars]\n",
        "\n",
        "# Calcular a matriz de correlação\n",
        "correlation_matrix = selected_df.corr()\n",
        "\n",
        "# Plotar o mapa de calor das correlações\n",
        "plt.figure(figsize=(10, 8))\n",
        "sns.heatmap(correlation_matrix, annot=True, cmap='coolwarm', fmt=\".2f\", linewidths=0.5)\n",
        "plt.title('Matriz de Correlação')\n",
        "plt.show()\n",
        "\n",
        "# Encontrar a maior e menor correlação\n",
        "max_corr = correlation_matrix.unstack().sort_values(ascending=False)[len(selected_vars):][0]\n",
        "min_corr = correlation_matrix.unstack().sort_values()[0]\n",
        "\n",
        "print(\"Maior correlação:\", max_corr)\n",
        "print(\"Menor correlação:\", min_corr)\n",
        "\n",
        "# Maior correlação: 0.6981155644552897\n",
        "# Menor correlação: -0.4212043194128441"
      ]
    },
    {
      "cell_type": "code",
      "execution_count": 16,
      "metadata": {
        "colab": {
          "base_uri": "https://localhost:8080/"
        },
        "id": "Z6d4-ctn9R_M",
        "outputId": "463ef3c7-e038-4a69-dffa-46a79754e3ff"
      },
      "outputs": [
        {
          "name": "stdout",
          "output_type": "stream",
          "text": [
            "Regressão linear para odometer_value:\n",
            "                            OLS Regression Results                            \n",
            "==============================================================================\n",
            "Dep. Variable:              price_usd   R-squared:                       0.177\n",
            "Model:                            OLS   Adj. R-squared:                  0.177\n",
            "Method:                 Least Squares   F-statistic:                     8296.\n",
            "Date:                Thu, 23 May 2024   Prob (F-statistic):               0.00\n",
            "Time:                        15:04:21   Log-Likelihood:            -3.8865e+05\n",
            "No. Observations:               38521   AIC:                         7.773e+05\n",
            "Df Residuals:                   38519   BIC:                         7.773e+05\n",
            "Df Model:                           1                                         \n",
            "Covariance Type:            nonrobust                                         \n",
            "==================================================================================\n",
            "                     coef    std err          t      P>|t|      [0.025      0.975]\n",
            "----------------------------------------------------------------------------------\n",
            "const           1.159e+04     61.912    187.126      0.000    1.15e+04    1.17e+04\n",
            "odometer_value    -0.0199      0.000    -91.084      0.000      -0.020      -0.019\n",
            "==============================================================================\n",
            "Omnibus:                    16330.160   Durbin-Watson:                   1.361\n",
            "Prob(Omnibus):                  0.000   Jarque-Bera (JB):            99107.643\n",
            "Skew:                           1.952   Prob(JB):                         0.00\n",
            "Kurtosis:                       9.819   Cond. No.                     5.91e+05\n",
            "==============================================================================\n",
            "\n",
            "Notes:\n",
            "[1] Standard Errors assume that the covariance matrix of the errors is correctly specified.\n",
            "[2] The condition number is large, 5.91e+05. This might indicate that there are\n",
            "strong multicollinearity or other numerical problems.\n",
            "\n",
            "Regressão linear para engine_capacity:\n",
            "                            OLS Regression Results                            \n",
            "==============================================================================\n",
            "Dep. Variable:              price_usd   R-squared:                       0.088\n",
            "Model:                            OLS   Adj. R-squared:                  0.088\n",
            "Method:                 Least Squares   F-statistic:                     3715.\n",
            "Date:                Thu, 23 May 2024   Prob (F-statistic):               0.00\n",
            "Time:                        15:04:22   Log-Likelihood:            -3.9064e+05\n",
            "No. Observations:               38521   AIC:                         7.813e+05\n",
            "Df Residuals:                   38519   BIC:                         7.813e+05\n",
            "Df Model:                           1                                         \n",
            "Covariance Type:            nonrobust                                         \n",
            "===================================================================================\n",
            "                      coef    std err          t      P>|t|      [0.025      0.975]\n",
            "-----------------------------------------------------------------------------------\n",
            "const             801.8867    100.709      7.962      0.000     604.495     999.279\n",
            "engine_capacity  2839.3269     46.582     60.954      0.000    2748.025    2930.628\n",
            "==============================================================================\n",
            "Omnibus:                    17926.518   Durbin-Watson:                   1.434\n",
            "Prob(Omnibus):                  0.000   Jarque-Bera (JB):           113674.259\n",
            "Skew:                           2.171   Prob(JB):                         0.00\n",
            "Kurtosis:                      10.209   Cond. No.                         8.33\n",
            "==============================================================================\n",
            "\n",
            "Notes:\n",
            "[1] Standard Errors assume that the covariance matrix of the errors is correctly specified.\n"
          ]
        }
      ],
      "source": [
        "# Carregar o dataframe\n",
        "df = pd.read_csv('CP3 Cars.csv')\n",
        "\n",
        "# Remover linhas com dados ausentes\n",
        "df.dropna(subset=['odometer_value', 'engine_capacity', 'price_usd'], inplace=True)\n",
        "\n",
        "# Adicionar uma constante ao dataframe para a interceptação do modelo\n",
        "df['const'] = 1\n",
        "\n",
        "# Selecionar as variáveis independentes (odometer_value e engine_capacity) e a variável dependente (price_usd)\n",
        "X_odometer = df[['const', 'odometer_value']]\n",
        "X_engine = df[['const', 'engine_capacity']]\n",
        "y = df['price_usd']\n",
        "\n",
        "# Inicializar e ajustar o modelo de regressão linear para odometer_value\n",
        "model_odometer = sm.OLS(y, X_odometer).fit()\n",
        "\n",
        "# Inicializar e ajustar o modelo de regressão linear para engine_capacity\n",
        "model_engine = sm.OLS(y, X_engine).fit()\n",
        "\n",
        "# Interpretar os resultados\n",
        "print(\"Regressão linear para odometer_value:\")\n",
        "print(model_odometer.summary())\n",
        "\n",
        "print(\"\\nRegressão linear para engine_capacity:\")\n",
        "print(model_engine.summary())"
      ]
    },
    {
      "cell_type": "code",
      "execution_count": 19,
      "metadata": {
        "colab": {
          "base_uri": "https://localhost:8080/"
        },
        "id": "ybhn5vgn-vFU",
        "outputId": "e504586f-5afa-42fc-9cc9-94c92ca18e06"
      },
      "outputs": [
        {
          "name": "stdout",
          "output_type": "stream",
          "text": [
            "                            OLS Regression Results                            \n",
            "==============================================================================\n",
            "Dep. Variable:              price_usd   R-squared:                       0.600\n",
            "Model:                            OLS   Adj. R-squared:                  0.600\n",
            "Method:                 Least Squares   F-statistic:                 1.443e+04\n",
            "Date:                Thu, 23 May 2024   Prob (F-statistic):               0.00\n",
            "Time:                        15:06:30   Log-Likelihood:            -3.7477e+05\n",
            "No. Observations:               38521   AIC:                         7.496e+05\n",
            "Df Residuals:                   38516   BIC:                         7.496e+05\n",
            "Df Model:                           4                                         \n",
            "Covariance Type:            nonrobust                                         \n",
            "===================================================================================\n",
            "                      coef    std err          t      P>|t|      [0.025      0.975]\n",
            "-----------------------------------------------------------------------------------\n",
            "const           -1.009e+06   5926.002   -170.261      0.000   -1.02e+06   -9.97e+05\n",
            "odometer_value     -0.0068      0.000    -38.477      0.000      -0.007      -0.006\n",
            "engine_capacity  2934.6056     31.207     94.038      0.000    2873.440    2995.772\n",
            "up_counter          3.7332      0.480      7.774      0.000       2.792       4.674\n",
            "year_produced     504.8566      2.950    171.153      0.000     499.075     510.638\n",
            "==============================================================================\n",
            "Omnibus:                    23439.300   Durbin-Watson:                   1.441\n",
            "Prob(Omnibus):                  0.000   Jarque-Bera (JB):           337714.348\n",
            "Skew:                           2.693   Prob(JB):                         0.00\n",
            "Kurtosis:                      16.468   Cond. No.                     8.12e+07\n",
            "==============================================================================\n",
            "\n",
            "Notes:\n",
            "[1] Standard Errors assume that the covariance matrix of the errors is correctly specified.\n",
            "[2] The condition number is large, 8.12e+07. This might indicate that there are\n",
            "strong multicollinearity or other numerical problems.\n",
            "\n",
            "Preço previsto do carro:\n",
            "0    21306.018013\n",
            "dtype: float64\n"
          ]
        }
      ],
      "source": [
        "# Carregar o dataframe\n",
        "df = pd.read_csv('CP3 Cars.csv')\n",
        "\n",
        "# Remover linhas com dados ausentes nas variáveis de interesse\n",
        "df.dropna(subset=['odometer_value', 'engine_capacity', 'up_counter', 'year_produced', 'price_usd'], inplace=True)\n",
        "\n",
        "# Adicionar uma constante ao dataframe para a interceptação do modelo\n",
        "df['const'] = 1\n",
        "\n",
        "# Selecionar as variáveis independentes e a variável dependente\n",
        "X = df[['const', 'odometer_value', 'engine_capacity', 'up_counter', 'year_produced']]\n",
        "y = df['price_usd']\n",
        "\n",
        "# Inicializar e ajustar o modelo de regressão linear múltipla\n",
        "model = sm.OLS(y, X).fit()\n",
        "\n",
        "# Imprimir o resumo do modelo\n",
        "print(model.summary())\n",
        "\n",
        "# Utilizar o modelo para prever o preço de um carro com os valores especificados\n",
        "new_data = pd.DataFrame({'const': 1, 'odometer_value': [0], 'engine_capacity': [7], 'up_counter': [5], 'year_produced': [2000]})\n",
        "predicted_price = model.predict(new_data)\n",
        "\n",
        "print(\"\\nPreço previsto do carro:\")\n",
        "print(predicted_price)\n",
        "\n",
        "#Preço previsto do carro:\n",
        "#0    21306.018013"
      ]
    }
  ],
  "metadata": {
    "colab": {
      "provenance": []
    },
    "kernelspec": {
      "display_name": "Python 3",
      "name": "python3"
    },
    "language_info": {
      "name": "python"
    }
  },
  "nbformat": 4,
  "nbformat_minor": 0
}
